{
 "cells": [
  {
   "cell_type": "markdown",
   "metadata": {},
   "source": [
    "\n",
    "# Use pyDataverse to migrate data into Dataverse"
   ]
  },
  {
   "cell_type": "markdown",
   "metadata": {},
   "source": [
    "European Dataverse Workshop @ Tromso\n",
    "\n",
    "Trainer: Stefan Kasberger from [AUSSDA - The Austrian Social Science Data Archive](https://aussda.at).\n",
    "[GitHub Repository](https://github.com/AUSSDA/european-dataverse-workshop-tromso)\n",
    "\n",
    "* [pyDataverse](https://github.com/AUSSDA/pyDataverse) ([develop](https://github.com/AUSSDA/pyDataverse/tree/develop))\n",
    "\n",
    "\n",
    "[Documentation Dataverse API](http://guides.dataverse.org/en/latest/api/index.html). pyDataverse mostly uses the native API."
   ]
  },
  {
   "cell_type": "markdown",
   "metadata": {},
   "source": [
    "## Overview\n",
    "\n",
    "What we will do:\n",
    "\n",
    "* Get a short introduction into the idea of pyDataverse (DONE)\n",
    "* Prepare the environment for the data migration:\n",
    "  * Get and run docker container for Jupyter Notebook\n",
    "  * Install pyDataverse\n",
    "  * Get pyDataverse templates for Datasets and Datafiles\n",
    "* Explain the pyDataverse templates and its usage\n",
    "* Import the data from the pyDataverse templates into pyDataverse\n",
    "* Upload the data via the API to our Dataverse\n",
    "\n"
   ]
  },
  {
   "cell_type": "markdown",
   "metadata": {},
   "source": [
    "## Introduction pyDataverse\n",
    "\n",
    "See the [slides](https://github.com/AUSSDA/european-dataverse-workshop-tromso/presentation.pdf)."
   ]
  },
  {
   "cell_type": "markdown",
   "metadata": {},
   "source": [
    "## Preparations"
   ]
  },
  {
   "cell_type": "markdown",
   "metadata": {},
   "source": [
    "Open your local terminal.\n",
    "\n",
    "SCREENSHOT\n",
    "Empty Shell"
   ]
  },
  {
   "cell_type": "markdown",
   "metadata": {},
   "source": [
    "Download and start Docker container for Jupyter notebook ([jupyter/datascience-notebook](https://hub.docker.com/r/jupyter/datascience-notebook)).\n",
    "\n",
    "```shell\n",
    "$ docker run -p 8888:8888 jupyter/scipy-notebook\n",
    "```"
   ]
  },
  {
   "cell_type": "markdown",
   "metadata": {},
   "source": [
    "SCREENSHOT\n",
    "Command, Result"
   ]
  },
  {
   "cell_type": "markdown",
   "metadata": {},
   "source": [
    "Go into the bash of the Docker container:\n",
    "\n",
    "```shell\n",
    "$ docker ps\n",
    "$ docker exec -it CONTAINER_ID bash\n",
    "```"
   ]
  },
  {
   "cell_type": "markdown",
   "metadata": {},
   "source": [
    "SCREENSHOT\n",
    "Command, Result"
   ]
  },
  {
   "cell_type": "markdown",
   "metadata": {},
   "source": [
    "Once you are inside, you can install [pydataverse](https://github.com/AUSSDA/pyDataverse). To have the latest features, we install from the develop branch.\n",
    "\n",
    "```shell\n",
    "$ pip install git+https://github.com/aussda/pyDataverse.git@develop\n",
    "```"
   ]
  },
  {
   "cell_type": "markdown",
   "metadata": {},
   "source": [
    "SCREENSHOT\n",
    "Command, Result"
   ]
  },
  {
   "cell_type": "markdown",
   "metadata": {},
   "source": [
    "Then you can download the [pyDataverse templates from GitHub](https://github.com/AUSSDA/pyDataverse_templates), which are needed for the import:\n",
    "\n",
    "```shell\n",
    "$ cd work/\n",
    "$ git clone https://github.com/AUSSDA/pyDataverse_templates.git\n",
    "```"
   ]
  },
  {
   "cell_type": "markdown",
   "metadata": {},
   "source": [
    "SCREENSHOT\n",
    "Command, Result"
   ]
  },
  {
   "cell_type": "markdown",
   "metadata": {},
   "source": [
    "Finally, we download the [GitHub Repository for this workshop](https://github.com/AUSSDA/pyDataverse_workshop_tromso), with the Jupyter Notebook inside, prepared for this workshop.\n",
    "\n",
    "```shell\n",
    "$ git clone https://github.com/AUSSDA/pyDataverse_workshop_tromso.git\n",
    "```"
   ]
  },
  {
   "cell_type": "markdown",
   "metadata": {},
   "source": [
    "SCREENSHOT\n",
    "Command, Result"
   ]
  },
  {
   "cell_type": "markdown",
   "metadata": {},
   "source": [
    "* Open Jupyter Notebook `localhost:8888`.\n",
    "* Open `work/pyDataverse_workshop_tromso/pydataverse.ipynb`"
   ]
  },
  {
   "cell_type": "markdown",
   "metadata": {},
   "source": [
    "Now everything is installed and up and running, so we can move on to get our hands on some data."
   ]
  },
  {
   "cell_type": "markdown",
   "metadata": {},
   "source": [
    "## The pyDataverse templates"
   ]
  },
  {
   "cell_type": "code",
   "execution_count": 1,
   "metadata": {},
   "outputs": [
    {
     "ename": "SyntaxError",
     "evalue": "invalid syntax (<ipython-input-1-7a85d3a64840>, line 1)",
     "output_type": "error",
     "traceback": [
      "\u001b[0;36m  File \u001b[0;32m\"<ipython-input-1-7a85d3a64840>\"\u001b[0;36m, line \u001b[0;32m1\u001b[0m\n\u001b[0;31m    * Show templates empty\u001b[0m\n\u001b[0m                   ^\u001b[0m\n\u001b[0;31mSyntaxError\u001b[0m\u001b[0;31m:\u001b[0m invalid syntax\n"
     ]
    }
   ],
   "source": [
    "* Show templates empty\n",
    "* show prepared dataset.csv and datafile.csv\n",
    "* Beziehung Datasets und Datafiles erklären\n",
    "* Text abändern"
   ]
  },
  {
   "cell_type": "code",
   "execution_count": null,
   "metadata": {},
   "outputs": [],
   "source": []
  },
  {
   "cell_type": "markdown",
   "metadata": {},
   "source": [
    "## Import the pyDataverse template files into pyDataverse\n",
    "\n",
    "After we added some data to the pyDataverse template files (datasets.csv, datafiles.csv), we can import the containing data into pyDataverse."
   ]
  },
  {
   "cell_type": "markdown",
   "metadata": {},
   "source": [
    "Load pyDataverse functions."
   ]
  },
  {
   "cell_type": "code",
   "execution_count": 11,
   "metadata": {},
   "outputs": [],
   "source": [
    "# load pyDataverse functionality\n",
    "from pyDataverse.models import Datafile\n",
    "from pyDataverse.models import Dataset\n",
    "from pyDataverse.utils import read_csv_to_dict\n",
    "from pyDataverse.utils import read_file\n",
    "from pyDataverse.utils import read_json\n",
    "import os\n",
    "import json"
   ]
  },
  {
   "cell_type": "code",
   "execution_count": null,
   "metadata": {},
   "outputs": [],
   "source": [
    "* Show data in pyDataverse\n",
    "* add license, ToU"
   ]
  },
  {
   "cell_type": "code",
   "execution_count": 17,
   "metadata": {},
   "outputs": [],
   "source": [
    "ds_filename = 'datasets.csv'\n",
    "license_filename = 'license.html'\n",
    "terms_filename = 'terms-of-access.html'\n",
    "\n",
    "data = {}\n",
    "license_default = read_file(license_filename)\n",
    "datasets_csv = read_csv_to_dict(ds_filename)\n",
    "\n",
    "for dataset in datasets_csv:\n",
    "    ds_tmp = {}\n",
    "    \n",
    "    ds_tmp['termsOfAccess'] = read_file(terms_filename)\n",
    "    for key, val in dataset.items():\n",
    "        if not val == '':\n",
    "            if key == 'aussda.dataset_id':\n",
    "                ds_id = val\n",
    "            elif key == 'dataverse.title':\n",
    "                ds_tmp['title'] = val\n",
    "            elif key == 'dataverse.subtitle':\n",
    "                ds_tmp['subtitle'] = val\n",
    "            elif key == 'dataverse.author':\n",
    "                ds_tmp['author'] = json.loads(val)\n",
    "            elif key == 'dataverse.dsDescription':\n",
    "                ds_tmp['dsDescription'] = []\n",
    "                ds_tmp['dsDescription'].append({\n",
    "                    'dsDescriptionValue': val})\n",
    "            elif key == 'dataverse.keywordValue':\n",
    "                ds_tmp['keyword'] = json.loads(val)\n",
    "            elif key == 'dataverse.topicClassification':\n",
    "                ds_tmp['topicClassification'] = json.loads(val)\n",
    "            elif key == 'dataverse.language':\n",
    "                ds_tmp['language'] = json.loads(val)\n",
    "            elif key == 'dataverse.subject':\n",
    "                ds_tmp['subject'] = []\n",
    "                ds_tmp['subject'].append(val)\n",
    "            elif key == 'dataverse.kindOfData':\n",
    "                ds_tmp['kindOfData'] = json.loads(val)\n",
    "            elif key == 'dataverse.datasetContact':\n",
    "                ds_tmp['datasetContact'] = json.loads(val)\n",
    "    data[ds_id] = {'metadata': ds_tmp}\n",
    "#print(data)"
   ]
  },
  {
   "cell_type": "code",
   "execution_count": 19,
   "metadata": {},
   "outputs": [],
   "source": [
    "df_filename = 'datafiles.csv'\n",
    "datafiles_csv = read_csv_to_dict(df_filename)\n",
    "\n",
    "for datafile in datafiles_csv:\n",
    "    df_tmp = {}\n",
    "    df_id = None\n",
    "    ds_id = None\n",
    "    for key, val in datafile.items():\n",
    "        if not val == '':\n",
    "            if key == 'dataverse.description':\n",
    "                df_tmp['description'] = val\n",
    "            elif key == 'aussda.filename':\n",
    "                df_tmp['filename'] = val\n",
    "            elif key == 'aussda.datafile_id':\n",
    "                df_tmp['datafile_id'] = val\n",
    "                df_id = val\n",
    "            elif key == 'aussda.dataset_id':\n",
    "                ds_id = val\n",
    "                df_tmp['dataset_id'] = ds_id\n",
    "            elif key == 'dataverse.categories':\n",
    "                df_tmp['categories'] = val\n",
    "    if 'datafiles' not in data[ds_id]:\n",
    "        data[ds_id]['datafiles'] = {}\n",
    "    if df_id not in data[ds_id]['datafiles']:\n",
    "        data[ds_id]['datafiles'][df_id] = {}\n",
    "    if 'metadata' not in data[ds_id]['datafiles'][df_id]:\n",
    "        data[ds_id]['datafiles'][df_id]['metadata'] = {}\n",
    "    data[ds_id]['datafiles'][df_id]['metadata'] = df_tmp\n",
    "#print(data)"
   ]
  },
  {
   "cell_type": "code",
   "execution_count": 20,
   "metadata": {},
   "outputs": [],
   "source": [
    "ds_1 = Dataset()\n",
    "ds_1.set(data['1']['metadata'])\n",
    "ds_2 = Dataset()\n",
    "ds_2.set(data['2']['metadata'])"
   ]
  },
  {
   "cell_type": "code",
   "execution_count": 21,
   "metadata": {},
   "outputs": [
    {
     "data": {
      "text/plain": [
       "{'datasetVersion': {'metadataBlocks': {'citation': {'fields': [{'typeName': 'kindOfData',\n",
       "      'multiple': True,\n",
       "      'typeClass': 'primitive',\n",
       "      'value': ['numeric']},\n",
       "     {'typeName': 'language',\n",
       "      'multiple': True,\n",
       "      'typeClass': 'controlledVocabulary',\n",
       "      'value': ['de']},\n",
       "     {'typeName': 'subject',\n",
       "      'multiple': True,\n",
       "      'typeClass': 'controlledVocabulary',\n",
       "      'value': ['Social Sciences']},\n",
       "     {'typeName': 'subtitle',\n",
       "      'multiple': False,\n",
       "      'typeClass': 'primitive',\n",
       "      'value': 'How Austrians use the internet in 2019.'},\n",
       "     {'typeName': 'title',\n",
       "      'multiple': False,\n",
       "      'typeClass': 'primitive',\n",
       "      'value': 'Internet usage 2019'},\n",
       "     {'typeName': 'author',\n",
       "      'multiple': True,\n",
       "      'typeClass': 'compound',\n",
       "      'value': [{'authorName': {'typeName': 'authorName',\n",
       "         'typeClass': 'primitive',\n",
       "         'multiple': False,\n",
       "         'value': 'Ausserhofer, Julian'},\n",
       "        'authorAffiliation': {'typeName': 'authorAffiliation',\n",
       "         'typeClass': 'primitive',\n",
       "         'multiple': False,\n",
       "         'value': 'University of Vienna'}}]},\n",
       "     {'typeName': 'datasetContact',\n",
       "      'multiple': True,\n",
       "      'typeClass': 'compound',\n",
       "      'value': [{'datasetContactName': {'typeName': 'datasetContactName',\n",
       "         'typeClass': 'primitive',\n",
       "         'multiple': False,\n",
       "         'value': 'AUSSDA – The Austrian Social Science Data Archive'},\n",
       "        'datasetContactEmail': {'typeName': 'datasetContactEmail',\n",
       "         'typeClass': 'primitive',\n",
       "         'multiple': False,\n",
       "         'value': 'info@aussda.at'}}]},\n",
       "     {'typeName': 'dsDescription',\n",
       "      'multiple': True,\n",
       "      'typeClass': 'compound',\n",
       "      'value': [{'dsDescriptionValue': {'typeName': 'dsDescriptionValue',\n",
       "         'typeClass': 'primitive',\n",
       "         'multiple': False,\n",
       "         'value': 'Life Style 2019. Internet usage / media.'}}]},\n",
       "     {'typeName': 'keyword',\n",
       "      'multiple': True,\n",
       "      'typeClass': 'compound',\n",
       "      'value': [{'keywordValue': {'typeName': 'keywordValue',\n",
       "         'typeClass': 'primitive',\n",
       "         'multiple': False,\n",
       "         'value': 'Mass media use'},\n",
       "        'keywordVocabulary': {'typeName': 'keywordVocabulary',\n",
       "         'typeClass': 'primitive',\n",
       "         'multiple': False,\n",
       "         'value': 'ELSST - The European Language Social Science Thesaurus'},\n",
       "        'keywordVocabularyURI': {'typeName': 'keywordVocabularyURI',\n",
       "         'typeClass': 'primitive',\n",
       "         'multiple': False,\n",
       "         'value': 'https://elsst.ukdataservice.ac.uk/'}}]},\n",
       "     {'typeName': 'topicClassification',\n",
       "      'multiple': True,\n",
       "      'typeClass': 'compound',\n",
       "      'value': [{'topicClassValue': {'typeName': 'topicClassValue',\n",
       "         'typeClass': 'primitive',\n",
       "         'multiple': False,\n",
       "         'value': 'Information society'},\n",
       "        'topicClassVocab': {'typeName': 'topicClassVocab',\n",
       "         'typeClass': 'primitive',\n",
       "         'multiple': False,\n",
       "         'value': 'CESSDA Topic Classification'}}]}]}},\n",
       "  'termsOfAccess': 'By accessing the file you agree to the AUSSDA <a href=\"https://aussda.at/en/terms-of-service/\">Terms of Service</a> and <a href=\"https://aussda.at/en/privacy-policy/\">Privacy Policy</a>.\\n'}}"
      ]
     },
     "execution_count": 21,
     "metadata": {},
     "output_type": "execute_result"
    }
   ],
   "source": [
    "ds_1.dict()"
   ]
  },
  {
   "cell_type": "code",
   "execution_count": 22,
   "metadata": {},
   "outputs": [
    {
     "data": {
      "text/plain": [
       "'{\\n  \"datasetVersion\": {\\n    \"metadataBlocks\": {\\n      \"citation\": {\\n        \"fields\": [\\n          {\\n            \"typeName\": \"kindOfData\",\\n            \"multiple\": true,\\n            \"typeClass\": \"primitive\",\\n            \"value\": [\\n              \"numeric\"\\n            ]\\n          },\\n          {\\n            \"typeName\": \"language\",\\n            \"multiple\": true,\\n            \"typeClass\": \"controlledVocabulary\",\\n            \"value\": [\\n              \"de\"\\n            ]\\n          },\\n          {\\n            \"typeName\": \"subject\",\\n            \"multiple\": true,\\n            \"typeClass\": \"controlledVocabulary\",\\n            \"value\": [\\n              \"Social Sciences\"\\n            ]\\n          },\\n          {\\n            \"typeName\": \"subtitle\",\\n            \"multiple\": false,\\n            \"typeClass\": \"primitive\",\\n            \"value\": \"How Austrian teenagers see school and professional time\"\\n          },\\n          {\\n            \"typeName\": \"title\",\\n            \"multiple\": false,\\n            \"typeClass\": \"primitive\",\\n            \"value\": \"Attitute of youth towards school and profession 2018\"\\n          },\\n          {\\n            \"typeName\": \"author\",\\n            \"multiple\": true,\\n            \"typeClass\": \"compound\",\\n            \"value\": [\\n              {\\n                \"authorName\": {\\n                  \"typeName\": \"authorName\",\\n                  \"typeClass\": \"primitive\",\\n                  \"multiple\": false,\\n                  \"value\": \"Zangerl, Patrick\"\\n                },\\n                \"authorAffiliation\": {\\n                  \"typeName\": \"authorAffiliation\",\\n                  \"typeClass\": \"primitive\",\\n                  \"multiple\": false,\\n                  \"value\": \"University of Vienna\"\\n                }\\n              }\\n            ]\\n          },\\n          {\\n            \"typeName\": \"datasetContact\",\\n            \"multiple\": true,\\n            \"typeClass\": \"compound\",\\n            \"value\": [\\n              {\\n                \"datasetContactName\": {\\n                  \"typeName\": \"datasetContactName\",\\n                  \"typeClass\": \"primitive\",\\n                  \"multiple\": false,\\n                  \"value\": \"AUSSDA \\\\u2013 The Austrian Social Science Data Archive\"\\n                },\\n                \"datasetContactEmail\": {\\n                  \"typeName\": \"datasetContactEmail\",\\n                  \"typeClass\": \"primitive\",\\n                  \"multiple\": false,\\n                  \"value\": \"info@aussda.at\"\\n                }\\n              }\\n            ]\\n          },\\n          {\\n            \"typeName\": \"dsDescription\",\\n            \"multiple\": true,\\n            \"typeClass\": \"compound\",\\n            \"value\": [\\n              {\\n                \"dsDescriptionValue\": {\\n                  \"typeName\": \"dsDescriptionValue\",\\n                  \"typeClass\": \"primitive\",\\n                  \"multiple\": false,\\n                  \"value\": \"Attitudes of teenagers about school and job.\"\\n                }\\n              }\\n            ]\\n          },\\n          {\\n            \"typeName\": \"keyword\",\\n            \"multiple\": true,\\n            \"typeClass\": \"compound\",\\n            \"value\": [\\n              {\\n                \"keywordValue\": {\\n                  \"typeName\": \"keywordValue\",\\n                  \"typeClass\": \"primitive\",\\n                  \"multiple\": false,\\n                  \"value\": \"Youth\"\\n                },\\n                \"keywordVocabulary\": {\\n                  \"typeName\": \"keywordVocabulary\",\\n                  \"typeClass\": \"primitive\",\\n                  \"multiple\": false,\\n                  \"value\": \"ELSST - The European Language Social Science Thesaurus\"\\n                },\\n                \"keywordVocabularyURI\": {\\n                  \"typeName\": \"keywordVocabularyURI\",\\n                  \"typeClass\": \"primitive\",\\n                  \"multiple\": false,\\n                  \"value\": \"https://elsst.ukdataservice.ac.uk/\"\\n                }\\n              },\\n              {\\n                \"keywordValue\": {\\n                  \"typeName\": \"keywordValue\",\\n                  \"typeClass\": \"primitive\",\\n                  \"multiple\": false,\\n                  \"value\": \"Youth\"\\n                },\\n                \"keywordVocabulary\": {\\n                  \"typeName\": \"keywordVocabulary\",\\n                  \"typeClass\": \"primitive\",\\n                  \"multiple\": false,\\n                  \"value\": \"VALUE\"\\n                },\\n                \"keywordVocabularyURI\": {\\n                  \"typeName\": \"keywordVocabularyURI\",\\n                  \"typeClass\": \"primitive\",\\n                  \"multiple\": false,\\n                  \"value\": \"https://elsst.ukdataservice.ac.uk/\"\\n                }\\n              },\\n              {\\n                \"keywordValue\": {\\n                  \"typeName\": \"keywordValue\",\\n                  \"typeClass\": \"primitive\",\\n                  \"multiple\": false,\\n                  \"value\": \"Youth\"\\n                },\\n                \"keywordVocabulary\": {\\n                  \"typeName\": \"keywordVocabulary\",\\n                  \"typeClass\": \"primitive\",\\n                  \"multiple\": false,\\n                  \"value\": \"ELSST - The European Language Social Science Thesaurus\"\\n                },\\n                \"keywordVocabularyURI\": {\\n                  \"typeName\": \"keywordVocabularyURI\",\\n                  \"typeClass\": \"primitive\",\\n                  \"multiple\": false,\\n                  \"value\": \"https://elsst.ukdataservice.ac.uk/\"\\n                }\\n              }\\n            ]\\n          },\\n          {\\n            \"typeName\": \"topicClassification\",\\n            \"multiple\": true,\\n            \"typeClass\": \"compound\",\\n            \"value\": [\\n              {\\n                \"topicClassValue\": {\\n                  \"typeName\": \"topicClassValue\",\\n                  \"typeClass\": \"primitive\",\\n                  \"multiple\": false,\\n                  \"value\": \"Youth\"\\n                },\\n                \"topicClassVocab\": {\\n                  \"typeName\": \"topicClassVocab\",\\n                  \"typeClass\": \"primitive\",\\n                  \"multiple\": false,\\n                  \"value\": \"CESSDA Topic Classification\"\\n                }\\n              },\\n              {\\n                \"topicClassValue\": {\\n                  \"typeName\": \"topicClassValue\",\\n                  \"typeClass\": \"primitive\",\\n                  \"multiple\": false,\\n                  \"value\": \"Education\"\\n                },\\n                \"topicClassVocab\": {\\n                  \"typeName\": \"topicClassVocab\",\\n                  \"typeClass\": \"primitive\",\\n                  \"multiple\": false,\\n                  \"value\": \"CESSDA Topic Classification\"\\n                }\\n              },\\n              {\\n                \"topicClassValue\": {\\n                  \"typeName\": \"topicClassValue\",\\n                  \"typeClass\": \"primitive\",\\n                  \"multiple\": false,\\n                  \"value\": \"Employment\"\\n                },\\n                \"topicClassVocab\": {\\n                  \"typeName\": \"topicClassVocab\",\\n                  \"typeClass\": \"primitive\",\\n                  \"multiple\": false,\\n                  \"value\": \"CESSDA Topic Classification\"\\n                }\\n              }\\n            ]\\n          }\\n        ]\\n      }\\n    },\\n    \"termsOfAccess\": \"By accessing the file you agree to the AUSSDA <a href=\\\\\"https://aussda.at/en/terms-of-service/\\\\\">Terms of Service</a> and <a href=\\\\\"https://aussda.at/en/privacy-policy/\\\\\">Privacy Policy</a>.\\\\n\"\\n  }\\n}'"
      ]
     },
     "execution_count": 22,
     "metadata": {},
     "output_type": "execute_result"
    }
   ],
   "source": [
    "ds_2.json()"
   ]
  },
  {
   "cell_type": "code",
   "execution_count": 35,
   "metadata": {},
   "outputs": [
    {
     "name": "stdout",
     "output_type": "stream",
     "text": [
      "ERROR: Could not establish connection to url http://localhost:8085/api/v1/info/server HTTPConnectionPool(host='localhost', port=8085): Max retries exceeded with url: /api/v1/info/server (Caused by NewConnectionError('<urllib3.connection.HTTPConnection object at 0x7f239ddc8da0>: Failed to establish a new connection: [Errno 111] Connection refused')).\n",
      "Dataverse build version can not be retrieved.\n"
     ]
    }
   ],
   "source": [
    "# load pyDataverse functionality\n",
    "from pyDataverse.api import Api\n",
    "\n",
    "dv_alias = 'root'\n",
    "base_url = 'http://localhost:8085'\n",
    "api_token = '' # get API_TOKEN\n",
    "\n",
    "api = Api(base_url, api_token)\n",
    "#api.dataverse_version\n",
    "#api.get_dataverse(dv_alias)"
   ]
  },
  {
   "cell_type": "code",
   "execution_count": null,
   "metadata": {},
   "outputs": [],
   "source": [
    "for dataset in [ds_1, ds_2]:\n",
    "    resp = api.create_dataset(dv_alias, ds.json())\n",
    "    if 'status' in resp.json():\n",
    "        if resp.json()['status'] == 'OK':\n",
    "            history['upload_date'] = ts\n",
    "            if 'data' in resp.json():\n",
    "                if 'persistentId' in resp.json()['data']:\n",
    "                    pid = resp.json()['data']['persistentId']\n",
    "                    history['pid'] = pid\n",
    "                    save_history(ds_dir, history)\n",
    "                    update_dict[ds_id] = {'aussda_doi': pid}\n",
    "                elif 'id' in resp.json()['data']:\n",
    "                    dataset_id = resp.json()['data']['id']\n",
    "                    history['dataverse_datasetId'] = str(dataset_id)\n",
    "                    resp = api.get_dataset(dataset_id, is_pid=False)\n",
    "                    pid = DOI_PREFIX_AUSSDA + '/' + resp.json()['data']['identifier']\n",
    "                    history['pid'] = pid\n",
    "                    save_history(ds_dir, history)\n",
    "                    update_dict[ds_id] = {'aussda_doi': pid}\n",
    "                else:\n",
    "                    print('ERROR: Create Dataset {0} - no \\'persistentId\\' in API response.'.format(ds_id))\n",
    "            else:\n",
    "                print('ERROR: Create Dataset {0} - no \\'data\\' in API response.'.format(ds_id))\n",
    "        else:\n",
    "            print('ERROR: Create Dataset {0} API Request Status not OK. STATUS = {1}, MSG = {2}'.format(ds_id, resp.json()['status'], resp.json()['data']))\n",
    "    else:\n",
    "        print('ERROR: Create Dataset {0} API Request not working.'.format(ds_id))\n",
    "    time.sleep(1)"
   ]
  },
  {
   "cell_type": "code",
   "execution_count": null,
   "metadata": {},
   "outputs": [],
   "source": [
    "ds = Dataset()\n",
    "ds.import_metadata(ds_filename)\n",
    "ds.title\n",
    "ds.description\n",
    "ds.dict()\n",
    "ds.json()\n",
    "\n",
    "df = Datafile()\n",
    "df.dict()\n"
   ]
  },
  {
   "cell_type": "code",
   "execution_count": null,
   "metadata": {},
   "outputs": [],
   "source": []
  },
  {
   "cell_type": "markdown",
   "metadata": {},
   "source": [
    "## Store metadata as JSON\n",
    "\n",
    "save json locally"
   ]
  },
  {
   "cell_type": "code",
   "execution_count": null,
   "metadata": {},
   "outputs": [],
   "source": [
    "dataset"
   ]
  },
  {
   "cell_type": "code",
   "execution_count": null,
   "metadata": {},
   "outputs": [],
   "source": [
    "datafile"
   ]
  },
  {
   "cell_type": "markdown",
   "metadata": {},
   "source": [
    "## Upload the data to Dataverse via API"
   ]
  },
  {
   "cell_type": "markdown",
   "metadata": {},
   "source": [
    "First, we have to get an API token for the Dataverse API. Go to [localhost:8085]()"
   ]
  },
  {
   "cell_type": "code",
   "execution_count": null,
   "metadata": {},
   "outputs": [],
   "source": [
    "api_token = 'SECRET'"
   ]
  },
  {
   "cell_type": "code",
   "execution_count": 14,
   "metadata": {},
   "outputs": [
    {
     "ename": "NameError",
     "evalue": "name 'api_token' is not defined",
     "output_type": "error",
     "traceback": [
      "\u001b[0;31m---------------------------------------------------------------------------\u001b[0m",
      "\u001b[0;31mNameError\u001b[0m                                 Traceback (most recent call last)",
      "\u001b[0;32m<ipython-input-14-f6fabb2bce90>\u001b[0m in \u001b[0;36m<module>\u001b[0;34m\u001b[0m\n\u001b[1;32m      6\u001b[0m \u001b[0mdataverse_url\u001b[0m \u001b[0;34m=\u001b[0m \u001b[0;34m'http://localhost:8085'\u001b[0m\u001b[0;34m\u001b[0m\u001b[0;34m\u001b[0m\u001b[0m\n\u001b[1;32m      7\u001b[0m \u001b[0;34m\u001b[0m\u001b[0m\n\u001b[0;32m----> 8\u001b[0;31m \u001b[0mapi\u001b[0m \u001b[0;34m=\u001b[0m \u001b[0mApi\u001b[0m\u001b[0;34m(\u001b[0m\u001b[0mdataverse_url\u001b[0m\u001b[0;34m,\u001b[0m \u001b[0mapi_token\u001b[0m\u001b[0;34m)\u001b[0m\u001b[0;34m\u001b[0m\u001b[0;34m\u001b[0m\u001b[0m\n\u001b[0m\u001b[1;32m      9\u001b[0m \u001b[0mapi\u001b[0m\u001b[0;34m.\u001b[0m\u001b[0mstatus\u001b[0m\u001b[0;34m\u001b[0m\u001b[0;34m\u001b[0m\u001b[0m\n",
      "\u001b[0;31mNameError\u001b[0m: name 'api_token' is not defined"
     ]
    }
   ],
   "source": []
  },
  {
   "cell_type": "code",
   "execution_count": null,
   "metadata": {},
   "outputs": [],
   "source": [
    "# set dataverse, in which the dataset should be created\n",
    "dv_alias = 'root'\n",
    "\n",
    "resp = api.get_dataverse(dv_alias)\n",
    "resp.json()\n",
    "resp = api.create_dataset(dv_alias, ds.json())"
   ]
  },
  {
   "cell_type": "markdown",
   "metadata": {},
   "source": [
    "View created Dataset at localhost."
   ]
  },
  {
   "cell_type": "code",
   "execution_count": null,
   "metadata": {},
   "outputs": [],
   "source": [
    "api.upload_datafile()"
   ]
  },
  {
   "cell_type": "markdown",
   "metadata": {},
   "source": [
    "View uploaded Datafiles at localhost."
   ]
  },
  {
   "cell_type": "code",
   "execution_count": null,
   "metadata": {},
   "outputs": [],
   "source": []
  },
  {
   "cell_type": "code",
   "execution_count": null,
   "metadata": {},
   "outputs": [],
   "source": []
  }
 ],
 "metadata": {
  "kernelspec": {
   "display_name": "Python 3",
   "language": "python",
   "name": "python3"
  },
  "language_info": {
   "codemirror_mode": {
    "name": "ipython",
    "version": 3
   },
   "file_extension": ".py",
   "mimetype": "text/x-python",
   "name": "python",
   "nbconvert_exporter": "python",
   "pygments_lexer": "ipython3",
   "version": "3.7.3"
  }
 },
 "nbformat": 4,
 "nbformat_minor": 2
}
