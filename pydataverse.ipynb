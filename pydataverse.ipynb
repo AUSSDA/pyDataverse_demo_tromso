{
 "cells": [
  {
   "cell_type": "markdown",
   "metadata": {},
   "source": [
    "\n",
    "# Use pyDataverse to migrate data into Dataverse"
   ]
  },
  {
   "cell_type": "markdown",
   "metadata": {},
   "source": [
    "European Dataverse Workshop @ Tromso\n",
    "\n",
    "Trainer: Stefan Kasberger from [AUSSDA - The Austrian Social Science Data Archive](https://aussda.at).\n",
    "[GitHub Repository](https://github.com/AUSSDA/european-dataverse-workshop-tromso)\n",
    "\n",
    "* [pyDataverse](https://github.com/AUSSDA/pyDataverse) ([develop](https://github.com/AUSSDA/pyDataverse/tree/develop))\n",
    "\n",
    "\n",
    "[Documentation Dataverse API](http://guides.dataverse.org/en/latest/api/index.html). pyDataverse mostly uses the native API."
   ]
  },
  {
   "cell_type": "markdown",
   "metadata": {},
   "source": [
    "## Overview\n",
    "\n",
    "What we will do:\n",
    "\n",
    "* Get a short introduction into the idea of pyDataverse (DONE)\n",
    "* Prepare the environment for the data migration:\n",
    "  * Get and run docker container for Jupyter Notebook\n",
    "  * Install pyDataverse\n",
    "  * Get pyDataverse templates for Datasets and Datafiles\n",
    "* Explain the pyDataverse templates and its usage\n",
    "* Import the data from the pyDataverse templates into pyDataverse\n",
    "* Upload the data via the API to our Dataverse\n",
    "\n"
   ]
  },
  {
   "cell_type": "markdown",
   "metadata": {},
   "source": [
    "## Introduction pyDataverse\n",
    "\n",
    "See the [slides](https://github.com/AUSSDA/european-dataverse-workshop-tromso/presentation.pdf)."
   ]
  },
  {
   "cell_type": "markdown",
   "metadata": {},
   "source": [
    "## Prepare the data migration"
   ]
  },
  {
   "cell_type": "markdown",
   "metadata": {},
   "source": [
    "Open your local terminal.\n",
    "\n",
    "SCREENSHOT\n",
    "Empty Shell"
   ]
  },
  {
   "cell_type": "markdown",
   "metadata": {},
   "source": [
    "Download and start Docker container for Jupyter notebook ([jupyter/datascience-notebook](https://hub.docker.com/r/jupyter/datascience-notebook)).\n",
    "\n",
    "```shell\n",
    "$ docker run -p 8888:8888 jupyter/scipy-notebook\n",
    "```"
   ]
  },
  {
   "cell_type": "markdown",
   "metadata": {},
   "source": [
    "SCREENSHOT\n",
    "Command, Result"
   ]
  },
  {
   "cell_type": "markdown",
   "metadata": {},
   "source": [
    "Go into the bash of the Docker container:\n",
    "\n",
    "```shell\n",
    "$ docker ps\n",
    "$ docker exec -it CONTAINER_ID bash\n",
    "```"
   ]
  },
  {
   "cell_type": "markdown",
   "metadata": {},
   "source": [
    "SCREENSHOT\n",
    "Command, Result"
   ]
  },
  {
   "cell_type": "markdown",
   "metadata": {},
   "source": [
    "Once you are inside, you can install [pydataverse](https://github.com/AUSSDA/pyDataverse). To have the latest features, we install from the develop branch.\n",
    "\n",
    "```shell\n",
    "$ pip install git+https://github.com/aussda/pyDataverse.git@develop\n",
    "```"
   ]
  },
  {
   "cell_type": "markdown",
   "metadata": {},
   "source": [
    "SCREENSHOT\n",
    "Command, Result"
   ]
  },
  {
   "cell_type": "markdown",
   "metadata": {},
   "source": [
    "Then you can download the [pyDataverse templates from GitHub](https://github.com/AUSSDA/pyDataverse_templates), which are needed for the import:\n",
    "\n",
    "```shell\n",
    "$ cd work/\n",
    "$ git clone https://github.com/AUSSDA/pyDataverse_templates.git\n",
    "```"
   ]
  },
  {
   "cell_type": "markdown",
   "metadata": {},
   "source": [
    "SCREENSHOT\n",
    "Command, Result"
   ]
  },
  {
   "cell_type": "markdown",
   "metadata": {},
   "source": [
    "Finally, we download the [GitHub Repository for this workshop](https://github.com/AUSSDA/european-dataverse-workshop-tromso), with the Jupyter Notebook inside, prepared for this workshop.\n",
    "\n",
    "```shell\n",
    "$ git clone https://github.com/AUSSDA/european-dataverse-workshop-tromso.git\n",
    "```"
   ]
  },
  {
   "cell_type": "markdown",
   "metadata": {},
   "source": [
    "SCREENSHOT\n",
    "Command, Result"
   ]
  },
  {
   "cell_type": "markdown",
   "metadata": {},
   "source": [
    "Now everything is installed and available in our Docker container, so we can move on."
   ]
  },
  {
   "cell_type": "markdown",
   "metadata": {},
   "source": [
    "## The pyDataverse templates"
   ]
  },
  {
   "cell_type": "code",
   "execution_count": null,
   "metadata": {},
   "outputs": [],
   "source": [
    "* Show templates empty\n",
    "* show prepared dataset.csv and datafile.csv\n",
    "* Beziehung Datasets und Datafiles erklären\n",
    "* Text abändern"
   ]
  },
  {
   "cell_type": "code",
   "execution_count": null,
   "metadata": {},
   "outputs": [],
   "source": []
  },
  {
   "cell_type": "markdown",
   "metadata": {},
   "source": [
    "## Import the pyDataverse template files into pyDataverse\n",
    "\n",
    "After we added some data to the pyDataverse template files (datasets.csv, datafiles.csv), we can import the containing data into pyDataverse."
   ]
  },
  {
   "cell_type": "markdown",
   "metadata": {},
   "source": [
    "Load pyDataverse functions."
   ]
  },
  {
   "cell_type": "code",
   "execution_count": 10,
   "metadata": {},
   "outputs": [],
   "source": [
    "# load pyDataverse functionality\n",
    "from pyDataverse.models import Dataset\n",
    "from pyDataverse.models import Datafile"
   ]
  },
  {
   "cell_type": "code",
   "execution_count": null,
   "metadata": {},
   "outputs": [],
   "source": [
    "* Show data in pyDataverse\n",
    "* "
   ]
  },
  {
   "cell_type": "code",
   "execution_count": 13,
   "metadata": {},
   "outputs": [
    {
     "name": "stdout",
     "output_type": "stream",
     "text": [
      "Attribute 'author' missing.\n",
      "Attribute 'datasetContact' missing.\n",
      "Attribute 'dsDescription' missing.\n",
      "Attribute 'subject' missing.\n",
      "Attribute 'title' missing.\n",
      "dict can not be created. Data is not valid for format\n",
      "Attribute 'author' missing.\n",
      "Attribute 'datasetContact' missing.\n",
      "Attribute 'dsDescription' missing.\n",
      "Attribute 'subject' missing.\n",
      "Attribute 'title' missing.\n",
      "dict can not be created. Data is not valid for format\n",
      "Attribute 'pid' is `False`.\n",
      "Attribute 'filename' is `False`.\n",
      "Dict can not be created. Data is not valid for format.\n"
     ]
    }
   ],
   "source": [
    "ds_filename = 'datasets.csv'\n",
    "df_filename = 'datafiles.csv'\n",
    "\n",
    "ds = Dataset()\n",
    "ds.import_metadata(ds_filename)\n",
    "ds.title\n",
    "ds.description\n",
    "ds.dict()\n",
    "ds.json()\n",
    "\n",
    "df = Datafile()\n",
    "df.dict()\n",
    "\n"
   ]
  },
  {
   "cell_type": "markdown",
   "metadata": {},
   "source": [
    "## Store metadata as JSON\n",
    "\n",
    "save json locally"
   ]
  },
  {
   "cell_type": "code",
   "execution_count": null,
   "metadata": {},
   "outputs": [],
   "source": [
    "dataset"
   ]
  },
  {
   "cell_type": "code",
   "execution_count": null,
   "metadata": {},
   "outputs": [],
   "source": [
    "datafile"
   ]
  },
  {
   "cell_type": "markdown",
   "metadata": {},
   "source": [
    "## Upload the data to Dataverse via API"
   ]
  },
  {
   "cell_type": "markdown",
   "metadata": {},
   "source": [
    "First, we have to get an API token for the Dataverse API. Go to [localhost:8085]()"
   ]
  },
  {
   "cell_type": "code",
   "execution_count": null,
   "metadata": {},
   "outputs": [],
   "source": [
    "api_token = 'SECRET'"
   ]
  },
  {
   "cell_type": "code",
   "execution_count": 14,
   "metadata": {},
   "outputs": [
    {
     "ename": "NameError",
     "evalue": "name 'api_token' is not defined",
     "output_type": "error",
     "traceback": [
      "\u001b[0;31m---------------------------------------------------------------------------\u001b[0m",
      "\u001b[0;31mNameError\u001b[0m                                 Traceback (most recent call last)",
      "\u001b[0;32m<ipython-input-14-f6fabb2bce90>\u001b[0m in \u001b[0;36m<module>\u001b[0;34m\u001b[0m\n\u001b[1;32m      6\u001b[0m \u001b[0mdataverse_url\u001b[0m \u001b[0;34m=\u001b[0m \u001b[0;34m'http://localhost:8085'\u001b[0m\u001b[0;34m\u001b[0m\u001b[0;34m\u001b[0m\u001b[0m\n\u001b[1;32m      7\u001b[0m \u001b[0;34m\u001b[0m\u001b[0m\n\u001b[0;32m----> 8\u001b[0;31m \u001b[0mapi\u001b[0m \u001b[0;34m=\u001b[0m \u001b[0mApi\u001b[0m\u001b[0;34m(\u001b[0m\u001b[0mdataverse_url\u001b[0m\u001b[0;34m,\u001b[0m \u001b[0mapi_token\u001b[0m\u001b[0;34m)\u001b[0m\u001b[0;34m\u001b[0m\u001b[0;34m\u001b[0m\u001b[0m\n\u001b[0m\u001b[1;32m      9\u001b[0m \u001b[0mapi\u001b[0m\u001b[0;34m.\u001b[0m\u001b[0mstatus\u001b[0m\u001b[0;34m\u001b[0m\u001b[0;34m\u001b[0m\u001b[0m\n",
      "\u001b[0;31mNameError\u001b[0m: name 'api_token' is not defined"
     ]
    }
   ],
   "source": [
    "# load pyDataverse functionality\n",
    "from pyDataverse.api import Api\n",
    "\n",
    "# set dataverse url\n",
    "dataverse_url = 'http://localhost:8085'\n",
    "\n",
    "api = Api(dataverse_url, api_token)\n",
    "api.status"
   ]
  },
  {
   "cell_type": "code",
   "execution_count": null,
   "metadata": {},
   "outputs": [],
   "source": [
    "# set dataverse, in which the dataset should be created\n",
    "dv_alias = 'root'\n",
    "\n",
    "resp = api.get_dataverse(dv_alias)\n",
    "resp.json()\n",
    "resp = api.create_dataset(dv_alias, ds.json())"
   ]
  },
  {
   "cell_type": "markdown",
   "metadata": {},
   "source": [
    "View created Dataset at localhost."
   ]
  },
  {
   "cell_type": "code",
   "execution_count": null,
   "metadata": {},
   "outputs": [],
   "source": [
    "api.upload_datafile()"
   ]
  },
  {
   "cell_type": "markdown",
   "metadata": {},
   "source": [
    "View uploaded Datafiles at localhost."
   ]
  },
  {
   "cell_type": "code",
   "execution_count": null,
   "metadata": {},
   "outputs": [],
   "source": []
  },
  {
   "cell_type": "code",
   "execution_count": null,
   "metadata": {},
   "outputs": [],
   "source": []
  }
 ],
 "metadata": {
  "kernelspec": {
   "display_name": "Python 3",
   "language": "python",
   "name": "python3"
  },
  "language_info": {
   "codemirror_mode": {
    "name": "ipython",
    "version": 3
   },
   "file_extension": ".py",
   "mimetype": "text/x-python",
   "name": "python",
   "nbconvert_exporter": "python",
   "pygments_lexer": "ipython3",
   "version": "3.7.3"
  }
 },
 "nbformat": 4,
 "nbformat_minor": 2
}
